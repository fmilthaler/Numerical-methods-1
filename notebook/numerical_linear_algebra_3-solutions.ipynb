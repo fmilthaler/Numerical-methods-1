{
 "cells": [
  {
   "cell_type": "markdown",
   "metadata": {},
   "source": [
    "# Numerical Methods 1\n",
    "### [Gerard Gorman](http://www.imperial.ac.uk/people/g.gorman), [Matthew Piggott](http://www.imperial.ac.uk/people/m.d.piggott)"
   ]
  },
  {
   "cell_type": "markdown",
   "metadata": {},
   "source": [
    "# Lecture 4: Numerical Linear Algebra III\n",
    "\n",
    "## Learning objectives:\n",
    "\n",
    "* Ill-conditioned matrices (matrix norms and condition number)\n",
    "* Direct vs iterative/indirect methods\n",
    "* Example iterative algorithm: the Jacobi and Gauss-Seidel methods\n",
    "* Sparse matrices and a pointer to more advanced algorithms"
   ]
  },
  {
   "cell_type": "markdown",
   "metadata": {},
   "source": [
    "## Ill-conditioned matrices\n",
    "\n",
    "The conditioning (or lack of, i.e. the ill-conditioning) of matrices we are trying to invert (to obtain the inverse, or to find the solution to a linear matrix system) is incredibly important for the success of any algorithm.\n",
    "\n",
    "When we started talking about matrices we noted that as long as the matrix is non-singular, i.e. $\\det(A)\\ne 0$ then an inverse exists, and a linear system with that $A$ has a unique solution.\n",
    "\n",
    "But what happens when we consider a matrix that is nearly singluar, i.e. $\\det(A)$ is very small?\n",
    "\n",
    "Well smallness is a relative term and so we need to ask the question of how large or small $\\det(A)$ is compared to something.\n",
    "\n",
    "That something is the *norm* of the matrix.\n",
    "\n",
    "#### Vector norms\n",
    "\n",
    "Just as for vectors $\\pmb{v}$ (assumed a $n\\times 1$ column vector) where we have multiple possible norms to help us decide quantify the magnitude of a vector:\n",
    "\n",
    "\\begin{align}\n",
    "\\|\\pmb{v}\\|_2 & = \\sqrt{v_1^2 + v_2^2 + \\ldots + v_n^2} = \\left(\\sum_{i=1}^n v_i^2 \\right)^{1/2}, &\\quad{\\textrm{the two-norm or Euclidean norm}}\\\\\n",
    "\\|\\pmb{v}\\|_1  & = |v_1| + |v_2| + \\ldots + |v_n| = \\sum_{i=1}^n |v_i|, &\\quad{\\textrm{the one-norm or taxi-cab norm}}\\\\\n",
    "\\|\\pmb{v}\\|_{\\infty}  &= \\max\\{|v_1|,|v_2|, \\ldots, |v_n| = \\max_{i=1}^n |v_i|, &\\quad{\\textrm{the max-norm or infinity norm}}\n",
    "\\end{align}\n",
    "\n",
    "#### Matrix norms\n",
    "\n",
    "We can define measures of the size of matrices, e.g. for $A$ which for complete generality we will assume is of shape $m\\times n$:\n",
    "\n",
    "\\begin{align}\n",
    "\\|A\\|_F & = \\left(\\sum_{i=1}^m \\sum_{j=1}^n A_{ij}^2 \\right)^{1/2}, &\\quad{\\textrm{the matrix two-norm or Euclidean or Frobenius norm}}\\\\\n",
    "\\|A\\|_{\\infty} & = \\max_{i=1}^m \\sum_{j=1}^n|A_{i,j}|, &\\quad{\\textrm{the maximum absolute row-sum norm}}\\\\\n",
    "\\end{align}\n",
    "\n",
    "Note that while the vector and matrix norms give different results, they are consistent or equivalent in that they are always within a constant factor of one another (a result that is true for finite-dimensional or discrete problems as here). This means we don't really need to worry too much about which norm we're using."
   ]
  },
  {
   "cell_type": "code",
   "execution_count": 1,
   "metadata": {
    "collapsed": false
   },
   "outputs": [
    {
     "name": "stdout",
     "output_type": "stream",
     "text": [
      "[[ 10.   2.   1.]\n",
      " [  6.   5.   4.]\n",
      " [  1.   4.   7.]]\n"
     ]
    }
   ],
   "source": [
    "import numpy\n",
    "from scipy import linalg\n",
    "A=numpy.array([[10., 2., 1.],[6., 5., 4.],[1., 4., 7.]])\n",
    "print A"
   ]
  },
  {
   "cell_type": "code",
   "execution_count": 2,
   "metadata": {
    "collapsed": false
   },
   "outputs": [
    {
     "name": "stdout",
     "output_type": "stream",
     "text": [
      "15.748015748\n"
     ]
    }
   ],
   "source": [
    "print linalg.norm(A)"
   ]
  },
  {
   "cell_type": "code",
   "execution_count": 3,
   "metadata": {
    "collapsed": false
   },
   "outputs": [
    {
     "name": "stdout",
     "output_type": "stream",
     "text": [
      "15.748015748\n"
     ]
    }
   ],
   "source": [
    "# the Frobenius norm - the default\n",
    "print linalg.norm(A,'fro')        "
   ]
  },
  {
   "cell_type": "code",
   "execution_count": 4,
   "metadata": {
    "collapsed": false
   },
   "outputs": [
    {
     "name": "stdout",
     "output_type": "stream",
     "text": [
      "15.0\n"
     ]
    }
   ],
   "source": [
    "# the maximum absolute row-sum\n",
    "print linalg.norm(A,numpy.inf)    "
   ]
  },
  {
   "cell_type": "code",
   "execution_count": 5,
   "metadata": {
    "collapsed": false
   },
   "outputs": [
    {
     "name": "stdout",
     "output_type": "stream",
     "text": [
      "17.0\n"
     ]
    }
   ],
   "source": [
    "# the maximum absolute column-sum\n",
    "print linalg.norm(A,1)            "
   ]
  },
  {
   "cell_type": "code",
   "execution_count": 6,
   "metadata": {
    "collapsed": false
   },
   "outputs": [
    {
     "name": "stdout",
     "output_type": "stream",
     "text": [
      "13.7930910986\n"
     ]
    }
   ],
   "source": [
    "# the two-norm - note not the same as the Frobenius norm - also termed the spectral norm\n",
    "print linalg.norm(A,2)            "
   ]
  },
  {
   "cell_type": "code",
   "execution_count": 7,
   "metadata": {
    "collapsed": false
   },
   "outputs": [
    {
     "name": "stdout",
     "output_type": "stream",
     "text": [
      "13.7930910986\n"
     ]
    }
   ],
   "source": [
    "print numpy.sqrt(numpy.real((numpy.max(linalg.eigvals(numpy.dot(A.T,A))))))"
   ]
  },
  {
   "cell_type": "markdown",
   "metadata": {},
   "source": [
    "### <span style=\"color:blue\">Exercise 4.1: matrix norms</span>\n",
    "\n",
    "Write some code to explicity compute the two matrix norms defined mathematically above and compare against the values found above using in-built scipy functions.\n",
    "\n",
    "Based on the above code and comments, what is the mathematical definition of the 1-norm and the 2-norm?\n"
   ]
  },
  {
   "cell_type": "code",
   "execution_count": 21,
   "metadata": {
    "collapsed": false
   },
   "outputs": [
    {
     "data": {
      "text/plain": [
       "True"
      ]
     },
     "execution_count": 21,
     "metadata": {},
     "output_type": "execute_result"
    }
   ],
   "source": [
    "import numpy as np\n",
    "import scipy.linalg as sl\n",
    "\n",
    "\n",
    "def frob(A):\n",
    "    m, n = A.shape\n",
    "    squsum = 0.\n",
    "    for i in range(m):\n",
    "        for j in range(n):\n",
    "            squsum += A[i,j]**2\n",
    "    return np.sqrt(squsum)\n",
    "\n",
    "\n",
    "def mars(A):\n",
    "    m, n = A.shape\n",
    "    maxarsum = 0.\n",
    "    for i in range(m):\n",
    "        arsum = np.sum(np.abs(A[i]))\n",
    "        maxarsum = arsum if arsum > maxarsum else maxarsum\n",
    "    return maxarsum\n",
    "\n",
    "\n",
    "A = numpy.array([[10., 2., 1.],\n",
    "                 [6., 5., 4.],\n",
    "                 [1., 4., 7.]])\n",
    "frob(A) == sl.norm(A,'fro') and mars(A) == sl.norm(A,numpy.inf)"
   ]
  },
  {
   "cell_type": "markdown",
   "metadata": {},
   "source": [
    "### Matrix conditioning\n",
    "\n",
    "The (ill-)conditioning of a matrix is measured with the matrix condition number:\n",
    "\n",
    "$$\\textrm{cond}(A) = \\|A\\|\\|A^{-1}\\|$$\n",
    "\n",
    "If this is close to one then $A$ is well-conditioned, and it increases with the degree of ill-conditioning, reaching infinity for a singular matrix."
   ]
  },
  {
   "cell_type": "code",
   "execution_count": 1,
   "metadata": {
    "collapsed": false
   },
   "outputs": [
    {
     "name": "stdout",
     "output_type": "stream",
     "text": [
      "[[ 10.   2.   1.]\n",
      " [  6.   5.   4.]\n",
      " [  1.   4.   7.]]\n",
      "10.7133718813\n",
      "10.7133718813\n",
      "12.4636165619\n",
      "12.4636165619\n"
     ]
    }
   ],
   "source": [
    "import numpy\n",
    "from scipy import linalg\n",
    "A=numpy.array([[10., 2., 1.],[6., 5., 4.],[1., 4., 7.]])\n",
    "print(A)\n",
    "print(numpy.linalg.cond(A))\n",
    "print(linalg.norm(A,2)*linalg.norm(linalg.inv(A),2))  # so the default condition number uses the matrix two-norm\n",
    "print(numpy.linalg.cond(A,'fro'))\n",
    "print(linalg.norm(A,'fro')*linalg.norm(linalg.inv(A),'fro'))"
   ]
  },
  {
   "cell_type": "markdown",
   "metadata": {},
   "source": [
    "The condition number is expensive to compute, and so in practice the size of the determinant of the matrix is guaged based on the magnitude of the entries of the matrix.\n",
    "\n",
    "We know that a singular matrix does not result in a unique solution to a corresponding linear matrix system. But what are the consequences of near-singularity (ill-conditioning)?\n",
    "\n",
    "Consider the following example\n",
    "\n",
    "\n",
    "$$\n",
    "\\left(\n",
    "  \\begin{array}{cc}\n",
    "    2 & 1 \\\\\n",
    "    2 & 1 + \\epsilon  \\\\\n",
    "  \\end{array}\n",
    "\\right)\\left(\n",
    "  \\begin{array}{c}\n",
    "    x \\\\\n",
    "    y \\\\\n",
    "  \\end{array}\n",
    "\\right) = \\left(\n",
    "  \\begin{array}{c}\n",
    "    3 \\\\\n",
    "    0 \\\\\n",
    "  \\end{array}\n",
    "\\right)\n",
    "$$\n",
    "\n",
    "Clearly when $\\epsilon=0$ the two columns/rows are not linear independent, and hence the determinant of this matrix is zero, the condition number is infinite, and the linear system does not have a solution."
   ]
  },
  {
   "cell_type": "markdown",
   "metadata": {},
   "source": [
    "### <span style=\"color:blue\">Exercise 4.2: Ill-conditioned matrix</span>\n",
    "\n",
    "Consider a range of small values for $\\epsilon$ and calculate the matrix determinant and condition number."
   ]
  },
  {
   "cell_type": "code",
   "execution_count": 60,
   "metadata": {
    "collapsed": false
   },
   "outputs": [
    {
     "name": "stdout",
     "output_type": "stream",
     "text": [
      "0.0 singular\n",
      "0.0019999999999997797 [ 1501.5 -3000. ]\n",
      "0.0039999999999995595 [  751.5 -1500. ]\n",
      "0.005999999999999339 [  501.5 -1000. ]\n"
     ]
    }
   ],
   "source": [
    "import numpy as np\n",
    "import scipy.linalg as sl\n",
    "\n",
    "\n",
    "A = numpy.array([[2.,1.],\n",
    "                 [2.,1.]])\n",
    "b = np.array([3.,0.])\n",
    "print(sl.det(A), 'singular')\n",
    "\n",
    "for i in range(3):\n",
    "    A[1,1] += 0.001\n",
    "    print(sl.det(A), np.dot(sl.inv(A),b))"
   ]
  },
  {
   "cell_type": "markdown",
   "metadata": {},
   "source": [
    "You should find for $\\epsilon=0.001$ that $\\det(A)=0.002$ (i.e. quite a lot smaller than the other coefficients in the matrix) and $\\textrm{cond}(A)\\approx 5000$.\n",
    "\n",
    "Using `numpy.dot(linalg.inv(A),b)` you should also be able to compute the solution $\\pmb{x}=(1501.5,-3000.)^T$.\n",
    "\n",
    "What happens when you make a very small change to the coefficients of the matrix (e.g. set $\\epsilon=0.002$)?\n",
    "\n",
    "You should find that this change of just $0.1\\%$ in one of the coefficients of the matrix results in a $100%$ change in both components of the solution!\n",
    "\n",
    "This is the consequence of the matrix being ill-conditioned - we should not trust the numerical solution to ill-conditioned problems. A way to see this is to recognise that computers do not perform arithmetic exactly - they necessarily have to [truncate numbers](http://www.mathwords.com/t/truncating_a_number.htm) at a certain number of significant figures, performing multiple operations with these truncated numbers can lead to an erosion of accuracy. Often this is not a problem, but these so-called [roundoff](http://mathworld.wolfram.com/RoundoffError.html) errors in algorithms generating $A$, or operating on $A$ as in Gaussian elinination, will lead to small inaccuracies in the coefficients of the matrix. Hence,  will fall foul of the problem seen above where a very small error in an input led to a far larger error in an output."
   ]
  },
  {
   "cell_type": "markdown",
   "metadata": {},
   "source": [
    "### Roundoff errors\n",
    "\n",
    "Note that in this course we are largely going to ignore the limitations of the floating point arithmetic performed by computers, including round-off errors.  \n",
    "\n",
    "This is often the topic of the first lecture of courses, or first chapter of books, on Numerical Methods or Numerical Analysis - do take a look at some examples if you are interested.  \n",
    "\n",
    "Also take a look at *D. Goldberg 1991: What every computer scientist should know about floating-point arithmetic, ACM Computing Surveys 23, Pages 5-48*.\n",
    "\n",
    "For some examples of catastrophic failures due to round off errors see <https://www.ma.utexas.edu/users/arbogast/misc/disasters.html> and <http://ta.twi.tudelft.nl/users/vuik/wi211/disasters.html> and [the sinking of the Sleipner A offshore platform](http://www.ima.umn.edu/~arnold/disasters/sleipner.html).\n",
    "\n",
    "As an example, consider the mathematical formula\n",
    "\n",
    "$$f(x)=(1-x)^{10}.$$\n",
    "\n",
    "We can of course relatively easily expand this out by hand\n",
    "\n",
    "$$f(x)=1- 10x + 45x^2 - 120x^3 + 210x^4 - 252x^5 + 210x^6 - 120x^7 + 45x^8 - 10x^9 + x^{10}.$$\n",
    "\n",
    "Mathematically these two things are identicial, but numerically different operations will be performed, which should give the same answer. For numbers $x$ away from $1$ these two expresssions do return (pretty much) the same answer.  \n",
    "\n",
    "However, for $x$ close to 1 the second expression adds and subtracts individual terms of increasing size which should largely cancel out, but they don't to sufficient accuracy due to round off errors; these errors accumulate with more and more operations, leading a loss of significant <https://en.wikipedia.org/wiki/Loss_of_significance>"
   ]
  },
  {
   "cell_type": "code",
   "execution_count": 10,
   "metadata": {
    "collapsed": false
   },
   "outputs": [
    {
     "name": "stdout",
     "output_type": "stream",
     "text": [
      "(0.00010485760000000006, 0.00010485760000436464, 4.1623815505431594e-11)\n",
      "(1.0239999999999978e-07, 1.0240001356576212e-07, 1.3247813024364063e-07)\n",
      "(9.765625000000086e-14, 1.2378986724570495e-13, 0.21111273343425307)\n"
     ]
    }
   ],
   "source": [
    "def f1(x):\n",
    "    return (1. - x)**10\n",
    "\n",
    "def f2(x):\n",
    "    return (1. - 10.*x + 45.*x**2 - 120.*x**3 +\n",
    "           210.*x**4 - 252.*x**5 + 210.*x**6 -\n",
    "           120.*x**7 + 45.*x**8 - 10.*x**9 + x**10)\n",
    "\n",
    "x=0.6\n",
    "print(f1(x),f2(x),1.-f1(x)/f2(x)) # values computed in different ways and their relative difference\n",
    "x=0.8\n",
    "print(f1(x),f2(x),1.-f1(x)/f2(x)) \n",
    "x=0.95\n",
    "print(f1(x),f2(x),1.-f1(x)/f2(x)) "
   ]
  },
  {
   "cell_type": "markdown",
   "metadata": {},
   "source": [
    "### Algorithm stability\n",
    "\n",
    "The susceptibility for a numerical algorithm to dampen (inevitable) errors, rather than to magnify them as we have seen in examples above, is terms *stability*.  This is a concern for numerical linear algebra as considered here, as well as for the numerical solution of differential equations as you will see in NM2.  In that case you don't want small errors to grow and accumulate as you propagate the solution to an ODE or PDE forward in time say.\n",
    "\n",
    "If your algorithm is not inherently stable, or has other limitation, you need to understand and appreciate this, as it can cause catastrophic failures! \n"
   ]
  },
  {
   "cell_type": "markdown",
   "metadata": {},
   "source": [
    "## Direct vs iterative methods\n",
    "\n",
    "Two types/families of methods exist to solve matrix systems.  These are termed *direct* methods and *iterative* (or *indirect*) methods.\n",
    "\n",
    "Direct methods perform operations on the linear equations (the matrix system), e.g. the substitution of one equation into another which we performed two weeks ago for your example $2\\times 2$ system considered in MM1. This (and the subsequent Gaussian elimination algorithm) transformed the equations making up the linear system into equivalent ones with the aim of eliminating unknowns from some of the equations and hence allowing for easy solution through back (or forward) substitution.\n",
    "\n",
    "Also, in MM1 you learnt Cramer's rule which gives an explicit formula for the inverse of a matrix, or for the solution of a linear matrix system.  It was pointed out that the computational cost (in terms of arithmetic operations required; also termed complexity) scaled like $(n+1)!$, whereas the Gaussian elimination (which is basically the susbtitution method done above) scaled like $n^3$.  For large $n$ Gaussian elimination will clearly be more efficient - you considered the case where $n=100$ in MM1 for example. $n$ here refers to the number of unknowns or equations, or sometimes termed the *degrees of freedom* of the problem.\n",
    "\n",
    "An advantage of direct methods is that they provide the exact solution (assuming exact arithmetic, i.e. ignoring the round off related issues mentioned above) in a finite number of operations.\n",
    "\n",
    "However, as pointed out previously, $n$ could be billions for hard-core applications such as in weather forecasting. In this case the $n^3$ operations required of a direct algorithm such as Gaussian elimination is also prohibitive. In attempt to further reduce this cost *iterative* algorithms were devised.\n",
    "\n",
    "These algorithms start with an initial guess at the solution ($\\pmb{x}_0$), and *iteratively* improve this producing a series of approximate answers $\\pmb{x}_k$. For the *exact* answer to the matrix system $A\\pmb{x} = \\pmb{b}$, we know that the residual vector $\\pmb{r} = A\\pmb{x}-\\pmb{b}$ is zero. For our iterative procudure, we can use the norm of the residual vector $\\pmb{r}_k = A\\pmb{x}_k-\\pmb{b}$ based on the approximate solution $\\pmb{x}_k$, as a measure of how close we are to solving the equation (the norm $\\|\\pmb{r}_k\\|$ expresses this as a single number). As we iterate futher, we hope to drive down this number and we may stop the iteration at some small (non-zero) residual norm tolerance level. The final iteration gives us an answer $\\pmb{x}_k$ which is still an approximation to the solution and not the exact solution we would obtain with direct methods.  The residual norm tolerance stopping criteria therefore needs to be thought about carefully, e.g. depending on how accurate a solution $\\pmb{x}$ we require.\n",
    "\n",
    "We have already considered Gaussian elimination (and back substitution) as examples of direct solution methods. We'll consider an example of an iterative method now."
   ]
  },
  {
   "cell_type": "markdown",
   "metadata": {},
   "source": [
    "## Iterative methods - Jacobi's method\n",
    "\n",
    "Consider our matrix system\n",
    "\n",
    "$$A\\pmb{x}=\\pmb{b} \\quad \\iff \\quad \\sum_{j=1}^nA_{ij}x_j=b_i,\\quad \\textrm{for}\\quad i=1,2,\\ldots, n.$$\n",
    "\n",
    "Let's rewrite this by pulling out the term involving $x_i$:\n",
    "\n",
    "$$A_{ii}x_i + \\sum_{\\substack{j=1\\\\ j\\ne i}}^nA_{ij}x_j=b_i,\\quad  i=1,2,\\ldots, n.$$\n",
    "\n",
    "We can then come up with a formula for our unknown $x_i$:\n",
    "\n",
    "$$x_i = \\frac{1}{A_{ii}}\\left(b_i- \\sum_{\\substack{j=1\\\\ j\\ne i}}^nA_{ij}x_j\\right),\\quad  i=1,2,\\ldots, n.$$\n",
    "\n",
    "Now of course for each individual $x_i$, all the other components of $\\pmb{x}$ appearing on the RHS are also unknown and so this is an example of an implicit formula which doesn't help us directly, but does suggest the following iterative scheme:\n",
    "\n",
    "* Starting from a guess at the solution $\\pmb{x}^{(0)}$\n",
    "\n",
    "* iterate for $k>0$\n",
    "$$x_i^{(k)} = \\frac{1}{A_{ii}}\\left(b_i- \\sum_{\\substack{j=1\\\\ j\\ne i}}^nA_{ij}x_j^{(k-1)}\\right),\\quad  i=1,2,\\ldots, n.$$\n",
    "\n",
    "Note that for this iteration, for a fixed $k$, it does not matter in which order we perform the operations over $i$."
   ]
  },
  {
   "cell_type": "code",
   "execution_count": 11,
   "metadata": {
    "collapsed": false
   },
   "outputs": [
    {
     "name": "stdout",
     "output_type": "stream",
     "text": [
      "Populating the interactive namespace from numpy and matplotlib\n",
      "4\n",
      "[-0.16340811 -0.01532703  0.27335262  0.36893551]\n",
      "[-0.16340816 -0.01532706  0.27335264  0.36893555]\n"
     ]
    },
    {
     "name": "stderr",
     "output_type": "stream",
     "text": [
      "WARNING: pylab import has clobbered these variables: ['linalg']\n",
      "`%matplotlib` prevents importing * from pylab and numpy\n"
     ]
    },
    {
     "data": {
      "image/png": "[encoded data removed]",
      "text/plain": [
       "<matplotlib.figure.Figure at 0x7ff210f232d0>"
      ]
     },
     "metadata": {},
     "output_type": "display_data"
    }
   ],
   "source": [
    "%pylab inline\n",
    "import pylab\n",
    "import numpy\n",
    "\n",
    "A=numpy.array([[10., 2., 3., 5.],[1., 14., 6., 2.],[-1., 4., 16., -4],[5. ,4. ,3. ,11. ]])\n",
    "b = numpy.array([1., 2., 3., 4.])\n",
    "print(A.shape[0])\n",
    "\n",
    "# an initial guess at the solution - here vector of zeros of length the number of rows in A\n",
    "x = numpy.zeros(A.shape[0]) \n",
    "\n",
    "tol = 1.e-6 # iteration tolerance\n",
    "it_max = 1000 # upper limit on iterations if we don't hit tolerance\n",
    "residuals=[] # store residuals\n",
    "\n",
    "for it in range(it_max):\n",
    "    x_new = numpy.zeros(A.shape[0])  # initialise the new solution vector\n",
    "    for i in range(A.shape[0]):\n",
    "        x_new[i] = (1./A[i, i]) * (b[i] - numpy.dot(A[i, :i], x[:i]) - numpy.dot(A[i, i + 1:], x[i + 1:]))\n",
    "\n",
    "    residual = numpy.linalg.norm(numpy.dot(A, x) - b)  # calculate the norm of the residual r=Ax-b for this latest guess\n",
    "    residuals.append(residual) # store it for later plotting\n",
    "    if (residual < tol): # if less than our required tolerance jump out of the iteration and end.\n",
    "        break\n",
    "\n",
    "    x = x_new # update old solution\n",
    "\n",
    "pylab.semilogy(residuals) # plot the log of the residual against iteration number \n",
    "print(x_new) # our solution vector\n",
    "print(numpy.dot(linalg.inv(A),b))  # check against scipy"
   ]
  },
  {
   "cell_type": "markdown",
   "metadata": {},
   "source": [
    "## Iterative methods - Gauss-Seidel's method\n",
    "\n",
    "We can make a small improvement to Jacobi's method using the updated components of the solution vector as they become available:\n",
    "\n",
    "* Starting from a guess at the solution $\\pmb{x}^{(0)}$\n",
    "\n",
    "* iterate for $k>0$\n",
    "$$x_i^{(k)} = \\frac{1}{A_{ii}}\\left(b_i- \\sum_{\\substack{j=1\\\\ j< i}}^nA_{ij}x_j^{(k)} - \\sum_{\\substack{j=1\\\\ j> i}}^nA_{ij}x_j^{(k-1)}\\right),\\quad  i=1,2,\\ldots, n.$$\n",
    "\n",
    "Note that as opposed to Jacobi, we can overwrite the entries of $\\pmb{x}$ as they are updated, with Jacobi we need to store both the new as well as the old iteration.\n",
    "\n",
    "The Gauss-Seidel algorithm should converge faster than Jacobi, but this convergence can only be *guaranteed* for matrices which are diagonally dominant (for every row, the magnitude of value on the main diagnonal is greater than the sum of the magnitudes of all the other entries in that row), or if the matrix is *symmetric positive definite* (a property we won't define in this course).  \n",
    "\n"
   ]
  },
  {
   "cell_type": "markdown",
   "metadata": {},
   "source": [
    "### <span style=\"color:blue\">Exercise 4.3: Implement Gauss-Seidel's method.</span>\n",
    "\n",
    "Generalise the Jacobi code to solve the matrix problem using Gauss-Seidel's method."
   ]
  },
  {
   "cell_type": "code",
   "execution_count": 61,
   "metadata": {
    "collapsed": false
   },
   "outputs": [
    {
     "name": "stdout",
     "output_type": "stream",
     "text": [
      "[-0.16340816 -0.01532706  0.27335264  0.36893555]\n"
     ]
    },
    {
     "data": {
      "text/plain": [
       "True"
      ]
     },
     "execution_count": 61,
     "metadata": {},
     "output_type": "execute_result"
    }
   ],
   "source": [
    "import numpy as np\n",
    "import scipy.linalg as sl\n",
    "\n",
    "\n",
    "def gauss_seidel(A, b, maxit=500):\n",
    "    m, n = A.shape\n",
    "    x = np.zeros_like(b)\n",
    "    for k in range(maxit):\n",
    "        for i in range(m):\n",
    "            x[i] = 1/A[i,i] * (b[i] - np.dot(A[i,:i], x[:i]) - np.dot(A[i,i+1:], x[i+1:]))\n",
    "    return x\n",
    "\n",
    "\n",
    "A = numpy.array([[10., 2., 3., 5.],\n",
    "                 [1., 14., 6., 2.],\n",
    "                 [-1., 4., 16.,-4],\n",
    "                 [5. ,4. ,3. ,11.]])\n",
    "b = numpy.array([1., 2., 3., 4.])\n",
    "np.allclose(np.dot(sl.inv(A),b), gauss_seidel(A, b))"
   ]
  },
  {
   "cell_type": "markdown",
   "metadata": {},
   "source": [
    "## Sparse matrices\n",
    "\n",
    "Note that the matrices which result from the numerical solution of differential equations are generally  *sparse* (<https://en.wikipedia.org/wiki/Sparse_matrix>) which means that most entries are zero (the alternative is termed *dense*).  Knowing which entries are zero means that we can devise more efficient matrix storage methods, as well as more efficient implementations of the above algorithms.\n",
    "\n",
    "As an example, for the two iterative methods shown above (Jacobi and Gauss Seidel), the cost of each iteration is quadratically dependent on the number of unknowns $n$, since we need to loop through all the entries of the $n\\times n$ matrix $A$. For a fixed number of iterations the computational cost of these methods therefore scales as $n^2$. If we know that each row only contains a fixed, small number of non-zero entries however (as for example the matrix in the last exercise), we can simply skip the zero entries and the cost *per iteration* becomes linear in $n$. These scalings of $n^2$ for *dense* and $n$ for *sparse* matrices for the cost per iteration are typical for iterative methods. Unfortunately this does not mean that the overal cost of an iterative method is also $n^2$ or $n$, as the number of iterations that is needed to achieve a certain accuracy quite often also increases for bigger problem sizes. The number of required iterations typically only increases very slowly however, so that the cost of the method is still considerably cheaper than direct methods, in particular for very large problems.\n",
    "\n",
    "A huge range of iterative solution methods exist and the literature on this topic is massive. Below is an example of using scipy to access the Conjugate Gradient algorithm which is a popular example of a method suitable for matrices which result from the numerical solution of differential equations."
   ]
  },
  {
   "cell_type": "code",
   "execution_count": 2,
   "metadata": {
    "collapsed": false
   },
   "outputs": [
    {
     "name": "stdout",
     "output_type": "stream",
     "text": [
      "[[-2.          0.61882841  0.         ...,  0.          0.          0.        ]\n",
      " [ 0.61882841 -2.          0.66655965 ...,  0.          0.          0.        ]\n",
      " [ 0.          0.66655965 -2.         ...,  0.          0.          0.        ]\n",
      " ..., \n",
      " [ 0.          0.          0.         ..., -2.          0.22501949  0.        ]\n",
      " [ 0.          0.          0.         ...,  0.22501949 -2.          0.86267149]\n",
      " [ 0.          0.          0.         ...,  0.          0.86267149 -2.        ]]\n",
      "  (0, 0)\t-2.0\n",
      "  (0, 1)\t0.618828414276\n",
      "  (1, 0)\t0.618828414276\n",
      "  (1, 1)\t-2.0\n",
      "  (1, 2)\t0.666559653751\n",
      "  (2, 1)\t0.666559653751\n",
      "  (2, 2)\t-2.0\n",
      "  (2, 3)\t0.291319892756\n",
      "  (3, 2)\t0.291319892756\n",
      "  (3, 3)\t-2.0\n",
      "  (3, 4)\t0.770110321377\n",
      "  (4, 3)\t0.770110321377\n",
      "  (4, 4)\t-2.0\n",
      "  (4, 5)\t0.0454034205716\n",
      "  (5, 4)\t0.0454034205716\n",
      "  (5, 5)\t-2.0\n",
      "  (5, 6)\t0.140440902887\n",
      "  (6, 5)\t0.140440902887\n",
      "  (6, 6)\t-2.0\n",
      "  (6, 7)\t0.569533654337\n",
      "  (7, 6)\t0.569533654337\n",
      "  (7, 7)\t-2.0\n",
      "  (7, 8)\t0.190283158038\n",
      "  (8, 7)\t0.190283158038\n",
      "  (8, 8)\t-2.0\n",
      "  :\t:\n",
      "  (41, 41)\t-2.0\n",
      "  (41, 42)\t0.878115031907\n",
      "  (42, 41)\t0.878115031907\n",
      "  (42, 42)\t-2.0\n",
      "  (42, 43)\t0.551930542416\n",
      "  (43, 42)\t0.551930542416\n",
      "  (43, 43)\t-2.0\n",
      "  (43, 44)\t0.677738470416\n",
      "  (44, 43)\t0.677738470416\n",
      "  (44, 44)\t-2.0\n",
      "  (44, 45)\t0.330602052946\n",
      "  (45, 44)\t0.330602052946\n",
      "  (45, 45)\t-2.0\n",
      "  (45, 46)\t0.430924684126\n",
      "  (46, 45)\t0.430924684126\n",
      "  (46, 46)\t-2.0\n",
      "  (46, 47)\t0.00182100714096\n",
      "  (47, 46)\t0.00182100714096\n",
      "  (47, 47)\t-2.0\n",
      "  (47, 48)\t0.2250194929\n",
      "  (48, 47)\t0.2250194929\n",
      "  (48, 48)\t-2.0\n",
      "  (48, 49)\t0.862671487454\n",
      "  (49, 48)\t0.862671487454\n",
      "  (49, 49)\t-2.0\n",
      "(1, 2.0080815248194956)\n",
      "(2, 1.1002947644382464)\n",
      "(3, 0.62328430910892341)\n",
      "(4, 0.26397190044951191)\n",
      "(5, 0.10175137925667377)\n",
      "(6, 0.049921575557175149)\n",
      "(7, 0.023714226071877006)\n",
      "(8, 0.011389174270709278)\n",
      "(9, 0.0063251472182592593)\n",
      "(10, 0.002743013001097523)\n",
      "(11, 0.0011079690507911359)\n",
      "(12, 0.00047014185470966945)\n",
      "(13, 0.00011517859336183098)\n",
      "(14, 4.1594214401541282e-05)\n",
      "(15, 1.5108764408366378e-05)\n",
      "(16, 5.3207681042911797e-06)\n",
      "(17, 1.5516553992653271e-06)\n",
      "(18, 4.8686055872935786e-07)\n",
      "(19, 1.4470344208572361e-07)\n",
      "(20, 4.0828858488147101e-08)\n",
      "(21, 1.5286215921591475e-08)\n",
      "(22, 6.6953201313200226e-09)\n",
      "(23, 1.913998755985712e-09)\n",
      "(24, 5.9390929583744999e-10)\n",
      "(25, 1.2439879556193692e-10)\n"
     ]
    }
   ],
   "source": [
    "import numpy\n",
    "import scipy.sparse.linalg\n",
    "\n",
    "n=50\n",
    "main_diag = numpy.ones(n)\n",
    "off_diag = numpy.random.random(n-1)  # to make it a bit more interesting make the off-diagonals random\n",
    "A = numpy.diag(-2*main_diag,0) + numpy.diag(1.*off_diag,1) + numpy.diag(1.*off_diag,-1)\n",
    "# A random RHS vector\n",
    "b = numpy.random.random(A.shape[0])\n",
    "\n",
    "print A # print our A in \"dense\" matrix format\n",
    "\n",
    "sA = scipy.sparse.csr_matrix(A) # The same matrix in a \"sparse\" matrix data structure where only non-zeros stored\n",
    "print sA\n",
    "\n",
    "# now use a scipy iterative algorithm (Conjugate Gradient) to solve\n",
    "\n",
    "# First define a function which we will pass the the solver in order to store and print the iteration numbers and residuals\n",
    "def gen_callback_cg():\n",
    "    diagnostics = dict(it=0, residuals=[]) \n",
    "    def callback(xk):   # xk is the solution computed by CG at each iteration\n",
    "        diagnostics[\"it\"] += 1\n",
    "        diagnostics[\"residuals\"].append(numpy.linalg.norm(numpy.dot(A, xk) - b))\n",
    "        print(diagnostics[\"it\"], numpy.linalg.norm(numpy.dot(A, xk) - b))\n",
    "    return callback    \n",
    "\n",
    "x_sol = scipy.sparse.linalg.cg(A,b,x0=None, tol=1e-10, maxiter=1000, callback=gen_callback_cg())"
   ]
  },
  {
   "cell_type": "markdown",
   "metadata": {
    "collapsed": true
   },
   "source": [
    "## Example\n",
    "\n",
    "Let us consider an electric circuit arranged in a regular grid of $n$ rows and $m$ columns. The nodes in the grid are numbered from 0 to $nm-1$ as indicated in the diagram below.\n",
    "\n",
    "![bla](images/circuit.png)\n",
    "\n",
    "We want to calculate the electric potential $V_i$ in all of the nodes $i$. A node $i$ somewhere in the middle of the circuit is connected via resistor to nodes $i-1$ and $i+1$ to the left and right respectively, and to the nodes $i-m$ and $i+m$ in the rows above and below. For simplicity we assume that all resistors have the same resistance value $R$. The first and last node of the circuit (0 and $nm-1$) to a battery via two additional resistors, with the same resistance value $R$.\n",
    "\n",
    "The sum of the currents coming into a node is zero (if we use a sign convention where a current coming into a node is positive and a current going out is negative. The currents between two nodes can be calculated using Ohm's law: $I=V/R$ where $R$ is the resistance of the resistor, and $V$ is the potential difference between two nodes, say $V=V_i-V_{i-1}$. Therefore we can write:\n",
    "\n",
    "\\begin{eqnarray}\n",
    "  0 &=& I_{i-1\\to i} + I_{i+1\\to i} + I_{i-m\\to i} + I_{i+m\\to i} \\\\\n",
    "    &=& V_{i-1\\to i}/R + V_{i+1\\to i}/R + V_{i-m\\to i}/R + V_{i+m\\to i}/R \\\\\n",
    "    &=& (V_{i}-V_{i-1})/R + (V_{i}-V_{i+1})/R + (V_{i}-V_{i-m})/R + (V_{i}-V_{i+m})/R \\\\\n",
    "    &=& (4V_{i}-V_{i-1}-V_{i+1}-V_{i-m}-V_{i+m})/R\n",
    "\\end{eqnarray}\n",
    "\n",
    "This gives us one linear equation for each node in the circuit (with slight modifications for nodes that are not in the interior). These can be combined into a linear system $Ax=b$ which is assembled in the code below:"
   ]
  },
  {
   "cell_type": "code",
   "execution_count": 14,
   "metadata": {
    "collapsed": false
   },
   "outputs": [],
   "source": [
    "n = 4 # number of rows\n",
    "m = 3 # number of columns\n",
    "V_battery = 5.0 # voltage on the right of the battery\n",
    "\n",
    "A = numpy.zeros((n*m, n*m))\n",
    "for row in range(n):\n",
    "    for column in range(m):\n",
    "        i = row*m + column # node number\n",
    "        if column>0: # left neighbour\n",
    "            A[i,i-1] += -1.0\n",
    "            A[i,i] += 1.0\n",
    "        if column<m-1: # right neighbour\n",
    "            A[i,i+1] += -1.0\n",
    "            A[i,i] += 1.0\n",
    "        if row>0: # neighbour above\n",
    "            A[i,i-m] += -1.0\n",
    "            A[i,i] += 1.0\n",
    "        if row<n-1: # neighbour below\n",
    "            A[i,i+m] += -1.0\n",
    "            A[i,i] += 1.0\n",
    "\n",
    "# connecting node 0 to the battery: I = (V_0 - 0)/R\n",
    "A[0,0] += 1.0 \n",
    "# connecting last node nm-1 to the battery: I = (V_0 - V_battery)/R = V_0/R - V_battery/R\n",
    "A[n*m-1,n*m-1] += 1.0\n",
    "# the V_battery/R term is a constant that does not depend on the unknowns, so ends up in the rhs vector b\n",
    "b = numpy.zeros(n*m)\n",
    "b[n*m-1] = V_battery"
   ]
  },
  {
   "cell_type": "code",
   "execution_count": null,
   "metadata": {
    "collapsed": true
   },
   "outputs": [],
   "source": []
  }
 ],
 "metadata": {
  "kernelspec": {
   "display_name": "Python 3",
   "language": "python",
   "name": "python3"
  },
  "language_info": {
   "codemirror_mode": {
    "name": "ipython",
    "version": 3
   },
   "file_extension": ".py",
   "mimetype": "text/x-python",
   "name": "python",
   "nbconvert_exporter": "python",
   "pygments_lexer": "ipython3",
   "version": "3.5.1"
  }
 },
 "nbformat": 4,
 "nbformat_minor": 0
}
