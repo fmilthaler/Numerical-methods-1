{
 "cells": [
  {
   "cell_type": "markdown",
   "metadata": {},
   "source": [
    "# Numerical Methods 1\n",
    "### [Gerard Gorman](http://www.imperial.ac.uk/people/g.gorman), [Matthew Piggott](http://www.imperial.ac.uk/people/m.d.piggott)"
   ]
  },
  {
   "cell_type": "markdown",
   "metadata": {},
   "source": [
    "# Lecture 2: Numerical Linear Algebra I\n",
    "\n",
    "## Learning objectives:\n",
    "\n",
    "* Manipulation of matrices and matrix equations in Python\n",
    "* Reminder on properties of matrices (from MM1): determinants, singularity etc\n",
    "* Algorithms for the solution of linear systems (this week we focus on so-called direct methods)\n",
    "* Gaussian elimination, including back substitution"
   ]
  },
  {
   "cell_type": "markdown",
   "metadata": {},
   "source": [
    "## Introduction - Linear (matrix) systems\n",
    "\n",
    "Recall from your Mathematical Methods I course that the we can re-write a system of simultaneous (linear) equations in matrix form.  For example, in week 4 of MM1 you considered the following example:\n",
    "\n",
    "\\begin{eqnarray*}\n",
    "  2x + 3y &=& 7 \\\\\n",
    "   x - 4y &=& 3\n",
    "\\end{eqnarray*} \n",
    "\n",
    "and it was noted that this can be written in matrix form as \n",
    "\n",
    "$$\n",
    "\\left(\n",
    "  \\begin{array}{rr}\n",
    "    2 & 3 \\\\\n",
    "    1 & -4  \\\\\n",
    "  \\end{array}\n",
    "\\right)\\left(\n",
    "  \\begin{array}{c}\n",
    "    x \\\\\n",
    "    y \\\\\n",
    "  \\end{array}\n",
    "\\right) = \\left(\n",
    "  \\begin{array}{c}\n",
    "    7 \\\\\n",
    "    3 \\\\\n",
    "  \\end{array}\n",
    "\\right)\n",
    "$$\n",
    "\n",
    "More generally, consider the arbitrary system of $m$ linear equations for $m$ unknowns\n",
    "\n",
    "\\begin{eqnarray*}\n",
    "  A_{11}x_1 + A_{12}x_2 + \\dots + A_{1n}x_n &=& b_1 \\\\ \n",
    "  A_{21}x_1 + A_{22}x_2 + \\dots + A_{2n}x_n &=& b_2 \\\\ \n",
    "  \\vdots &=& \\vdots \\\\ \n",
    "  A_{n1}x_1 + A_{n2}x_2 + \\dots + A_{nn}x_n &=& b_n\n",
    "\\end{eqnarray*}\n",
    "\n",
    "where $A_{ij}$ are the constant coefficients of the linear system, $x_j$ are the unknown variables, and $b_i$\n",
    "are the terms on the right hand side (RHS).  Here the index $i$ is referring to the equation number\n",
    "(the row in the matrix below), with the index $j$ referring to the component of the unknown\n",
    "vector $\\pmb{x}$ (the column of the matrix).\n",
    "\n",
    "This system of equations can be represented as the matrix equation $A\\pmb{x}=\\pmb{b}$: \n",
    "\n",
    "$$\n",
    "\\left(\n",
    "  \\begin{array}{cccc}\n",
    "    A_{11} & A_{12} & \\dots & A_{1n} \\\\\n",
    "    A_{21} & A_{22} & \\dots & A_{2n} \\\\\n",
    "    \\vdots & \\vdots & \\ddots & \\vdots \\\\\n",
    "    A_{n1} & A_{n2} & \\dots & A_{nn} \\\\\n",
    "  \\end{array}\n",
    "\\right)\\left(\n",
    "         \\begin{array}{c}\n",
    "           x_1 \\\\\n",
    "           x_2 \\\\\n",
    "           \\vdots \\\\\n",
    "           x_n \\\\\n",
    "         \\end{array}\n",
    "       \\right)  = \\left(\n",
    "                   \\begin{array}{c}\n",
    "                     b_1 \\\\\n",
    "                     b_2 \\\\\n",
    "                     \\vdots \\\\\n",
    "                     b_n \\\\\n",
    "                   \\end{array}\n",
    "                 \\right)\n",
    "$$\n",
    "\n",
    "We solved the above $2 \\times 2$ example of two equations and two unknowns in MM1 using substitution, *i.e.* multiply the second equation by 2 and subtract the first equation from the resulting equation to eliminate $x$ and hence allowing us to find $y$, we can then compute $x$ from the first equation) to easily give the solution \n",
    "\n",
    "$$ x=37/11, \\quad y=1/11.$$\n",
    "\n",
    "In MM1 you also considered $3 \\times 3$ examples which were a little more complicated but still doable.  This lecture considers the case of $n \\times n$ where $n$ could easily be billions! This case arises when you solve a differential equation numerically on a discrete mesh or grid. Here you would typically obtain one unknown and one (discrete, linear or nonlinear) equation at very grid point. You could generate an arbitrarily large matrix system simply by generating a finer mesh.\n",
    "\n",
    "Note that you will solve differential equations numerically in the follow-up course Numerical Methods II.\n",
    "\n",
    "Cases where the matrix is non-square, i.e. of shape $m \\times n$ where $m\\ne n$ correspond to the (over- or under-determined) system where you have more or less equations than unknowns - we won't consider these in this lecture. \n"
   ]
  },
  {
   "cell_type": "markdown",
   "metadata": {},
   "source": [
    "## Matrices in Python\n",
    "\n",
    "We have already used numpy arrays to store one-dimensional vectors of numbers.\n",
    "\n",
    "The convention is that these are generally considered to be *column* vectors and have shape $n \\times 1$.\n",
    "\n",
    "We can extend to higher dimensions through the introduction of matrices as two-dimensional arrays (more generally vectors and matrices are just two examples of tensors). \n",
    "\n",
    "We use subscript indices to identify each component of the array or matrix, i.e. we can identify each component of the vector $\\pmb{v}$ by $v_i$, and each component of the vector $A$ by $A_{ij}$.  \n",
    "\n",
    "Note that it is a convention that vectors are either underlined or bold, and generally lower case letters, whereas matrices are plain capital letters.\n",
    "\n",
    "The *dimension* or *shape* of a vector/matrix is the number of rows and columns it posesses, i.e. $n \\times 1$ and $m \\times n$ for the examples above.\n",
    "\n",
    "Here is an example of how we can extend our use of the numpy array object to two dimensions in order to define a matrix $A$ and some examples of some operations we can make on it."
   ]
  },
  {
   "cell_type": "code",
   "execution_count": 3,
   "metadata": {
    "collapsed": false
   },
   "outputs": [
    {
     "name": "stdout",
     "output_type": "stream",
     "text": [
      "[[ 10.   2.   1.]\n",
      " [  6.   5.   4.]\n",
      " [  1.   4.   7.]]\n"
     ]
    }
   ],
   "source": [
    "import numpy\n",
    "from scipy import linalg\n",
    "A=numpy.array([[10., 2., 1.],[6., 5., 4.],[1., 4., 7.]])\n",
    "\n",
    "print A"
   ]
  },
  {
   "cell_type": "code",
   "execution_count": 2,
   "metadata": {
    "collapsed": false
   },
   "outputs": [
    {
     "name": "stdout",
     "output_type": "stream",
     "text": [
      "9\n"
     ]
    }
   ],
   "source": [
    "# the total size of the array storing A - here 9 for a 3x3 matrix\n",
    "print numpy.size(A)  "
   ]
  },
  {
   "cell_type": "code",
   "execution_count": 3,
   "metadata": {
    "collapsed": false
   },
   "outputs": [
    {
     "name": "stdout",
     "output_type": "stream",
     "text": [
      "2\n"
     ]
    }
   ],
   "source": [
    "# the number of dimensions of the matrix A\n",
    "print numpy.ndim(A)     "
   ]
  },
  {
   "cell_type": "code",
   "execution_count": 4,
   "metadata": {
    "collapsed": false
   },
   "outputs": [
    {
     "name": "stdout",
     "output_type": "stream",
     "text": [
      "(3, 3)\n"
     ]
    }
   ],
   "source": [
    "# the shape of the matrix A\n",
    "print numpy.shape(A)"
   ]
  },
  {
   "cell_type": "code",
   "execution_count": 5,
   "metadata": {
    "collapsed": false
   },
   "outputs": [
    {
     "name": "stdout",
     "output_type": "stream",
     "text": [
      "[[ 10.   6.   1.]\n",
      " [  2.   5.   4.]\n",
      " [  1.   4.   7.]]\n"
     ]
    }
   ],
   "source": [
    "# the transpose of the matrix A\n",
    "print A.T               "
   ]
  },
  {
   "cell_type": "code",
   "execution_count": 6,
   "metadata": {
    "collapsed": false
   },
   "outputs": [
    {
     "name": "stdout",
     "output_type": "stream",
     "text": [
      "[[ 0.14285714 -0.07518797  0.02255639]\n",
      " [-0.28571429  0.51879699 -0.2556391 ]\n",
      " [ 0.14285714 -0.28571429  0.28571429]]\n"
     ]
    }
   ],
   "source": [
    "# the inverse of the matrix A - computed using a scipy algorithm\n",
    "print linalg.inv(A)     "
   ]
  },
  {
   "cell_type": "code",
   "execution_count": 7,
   "metadata": {
    "collapsed": false
   },
   "outputs": [
    {
     "name": "stdout",
     "output_type": "stream",
     "text": [
      "133.0\n"
     ]
    }
   ],
   "source": [
    "# the determinant of the matrix A - computed using a scipy algorithm\n",
    "print linalg.det(A)      "
   ]
  },
  {
   "cell_type": "code",
   "execution_count": 8,
   "metadata": {
    "collapsed": false
   },
   "outputs": [
    {
     "name": "stdout",
     "output_type": "stream",
     "text": [
      "[[  1.00000000e+00  -1.11022302e-16  -8.32667268e-17]\n",
      " [  1.11022302e-16   1.00000000e+00   2.77555756e-17]\n",
      " [ -2.22044605e-16   0.00000000e+00   1.00000000e+00]]\n"
     ]
    }
   ],
   "source": [
    "# Multiply A with its inverse using numpy's dot. Note that due to\n",
    "# roundoff errors the off diagonal values are not exactly zero.\n",
    "print numpy.dot(A,linalg.inv(A))  "
   ]
  },
  {
   "cell_type": "code",
   "execution_count": 9,
   "metadata": {
    "collapsed": false
   },
   "outputs": [
    {
     "name": "stdout",
     "output_type": "stream",
     "text": [
      "[[  1.00000000e+00  -1.11022302e-16  -8.32667268e-17]\n",
      " [  1.11022302e-16   1.00000000e+00   2.77555756e-17]\n",
      " [ -2.22044605e-16   0.00000000e+00   1.00000000e+00]]\n"
     ]
    }
   ],
   "source": [
    "# same way to achieve the same thing\n",
    "print A.dot(linalg.inv(A))  "
   ]
  },
  {
   "cell_type": "code",
   "execution_count": 10,
   "metadata": {
    "collapsed": false
   },
   "outputs": [
    {
     "name": "stdout",
     "output_type": "stream",
     "text": [
      "[[ 1.42857143 -0.15037594  0.02255639]\n",
      " [-1.71428571  2.59398496 -1.02255639]\n",
      " [ 0.14285714 -1.14285714  2.        ]]\n"
     ]
    }
   ],
   "source": [
    "# note that the * operator simply does operations element-wise\n",
    "print A*linalg.inv(A)     "
   ]
  },
  {
   "cell_type": "code",
   "execution_count": 11,
   "metadata": {
    "collapsed": false
   },
   "outputs": [
    {
     "name": "stdout",
     "output_type": "stream",
     "text": [
      "[ 0.  0.  0.]\n"
     ]
    }
   ],
   "source": [
    "# how to initialise a vector of zeros \n",
    "print numpy.zeros(3)  "
   ]
  },
  {
   "cell_type": "code",
   "execution_count": 12,
   "metadata": {
    "collapsed": false
   },
   "outputs": [
    {
     "name": "stdout",
     "output_type": "stream",
     "text": [
      "[[ 0.  0.  0.]\n",
      " [ 0.  0.  0.]\n",
      " [ 0.  0.  0.]]\n"
     ]
    }
   ],
   "source": [
    "# how to initialise a matrix of zeros \n",
    "print numpy.zeros((3,3)) "
   ]
  },
  {
   "cell_type": "code",
   "execution_count": 13,
   "metadata": {
    "collapsed": false
   },
   "outputs": [
    {
     "name": "stdout",
     "output_type": "stream",
     "text": [
      "[[[ 0.  0.  0.]\n",
      "  [ 0.  0.  0.]\n",
      "  [ 0.  0.  0.]]\n",
      "\n",
      " [[ 0.  0.  0.]\n",
      "  [ 0.  0.  0.]\n",
      "  [ 0.  0.  0.]]\n",
      "\n",
      " [[ 0.  0.  0.]\n",
      "  [ 0.  0.  0.]\n",
      "  [ 0.  0.  0.]]]\n"
     ]
    }
   ],
   "source": [
    "# how to initialise a 3rd-order tensor of zeros\n",
    "print numpy.zeros((3,3,3))  "
   ]
  },
  {
   "cell_type": "code",
   "execution_count": 14,
   "metadata": {
    "collapsed": false
   },
   "outputs": [
    {
     "name": "stdout",
     "output_type": "stream",
     "text": [
      "[[ 1.  0.  0.]\n",
      " [ 0.  1.  0.]\n",
      " [ 0.  0.  1.]]\n"
     ]
    }
   ],
   "source": [
    "# how to initialise the identity matrix, I or Id\n",
    "print numpy.eye(3)  "
   ]
  },
  {
   "cell_type": "markdown",
   "metadata": {},
   "source": [
    "Let's quickly consider the $2 \\times 2$ case from MM1 recreated above where we claimed that $x=37/11$ and $y=1/11$.  \n",
    "\n",
    "To solve the matrix equation \n",
    "\n",
    "$$ A\\pmb{x}=\\pmb{b} $$\n",
    "\n",
    "we can simply multiply both sides by the inverse of the matrix $A$ (if $A$ is invertible and if we know what the inverse is of course!):\n",
    "\n",
    "\\begin{align}\n",
    "A\\pmb{x} & = \\pmb{b}\\\\\n",
    "\\implies A^{-1}A\\pmb{x} & = A^{-1}\\pmb{b}\\\\\n",
    "\\implies I\\pmb{x} & = A^{-1}\\pmb{b}\\\\\n",
    "\\implies \\pmb{x} & = A^{-1}\\pmb{b}\n",
    "\\end{align}\n",
    "\n",
    "so we can find the solution $\\pmb{x}$ by multiplying the inverse of $A$ with the RHS vector $\\pmb{b}$."
   ]
  },
  {
   "cell_type": "code",
   "execution_count": 15,
   "metadata": {
    "collapsed": false
   },
   "outputs": [
    {
     "name": "stdout",
     "output_type": "stream",
     "text": [
      "-11.0\n"
     ]
    }
   ],
   "source": [
    "A=numpy.array([[2., 3.],[1., -4.]])\n",
    "\n",
    "# check first whether the determinant of A is non-zero - see below for reasons why.\n",
    "print(linalg.det(A))   "
   ]
  },
  {
   "cell_type": "code",
   "execution_count": 16,
   "metadata": {
    "collapsed": false
   },
   "outputs": [
    {
     "name": "stdout",
     "output_type": "stream",
     "text": [
      "[ 3.36363636  0.09090909]\n"
     ]
    }
   ],
   "source": [
    "b=numpy.array([7., 3.])\n",
    "\n",
    "# compute A inverse and multiply by b\n",
    "print numpy.dot(linalg.inv(A),b) "
   ]
  },
  {
   "cell_type": "code",
   "execution_count": 17,
   "metadata": {
    "collapsed": false
   },
   "outputs": [
    {
     "name": "stdout",
     "output_type": "stream",
     "text": [
      "[ 3.36363636  0.09090909]\n"
     ]
    }
   ],
   "source": [
    "b=numpy.array([7., 3.])\n",
    "\n",
    "# compute A inverse and multiply by b\n",
    "print numpy.dot(linalg.inv(A),b) "
   ]
  },
  {
   "cell_type": "code",
   "execution_count": 18,
   "metadata": {
    "collapsed": false
   },
   "outputs": [
    {
     "name": "stdout",
     "output_type": "stream",
     "text": [
      "[ 3.36363636  0.09090909]\n",
      "Check it against the solution we calculated by hand earlier:  3.36363636364 0.0909090909091\n"
     ]
    }
   ],
   "source": [
    "# or solve the linear system using scipy - actually does the same thing as line above using LU (see below)\n",
    "print linalg.solve(A,b)\n",
    "\n",
    "print \"Check it against the solution we calculated by hand earlier: \", 37./11., 1./11."
   ]
  },
  {
   "cell_type": "markdown",
   "metadata": {},
   "source": [
    "### <span style=\"color:blue\">Aside: matrix objects </span>\n",
    "\n",
    "Note that numpy does possess a matrix object as a sub-class of the numpy array.  We can cast the above two-dimensional arrays into matrix objects and then the star operator does yield the expected matrix product:"
   ]
  },
  {
   "cell_type": "code",
   "execution_count": 19,
   "metadata": {
    "collapsed": false
   },
   "outputs": [
    {
     "name": "stdout",
     "output_type": "stream",
     "text": [
      "<type 'numpy.ndarray'>\n"
     ]
    }
   ],
   "source": [
    "# the is an n-dimensional array (n-2 here)\n",
    "print type(A)  "
   ]
  },
  {
   "cell_type": "code",
   "execution_count": 20,
   "metadata": {
    "collapsed": false
   },
   "outputs": [
    {
     "name": "stdout",
     "output_type": "stream",
     "text": [
      "<class 'numpy.matrixlib.defmatrix.matrix'>\n"
     ]
    }
   ],
   "source": [
    "# this casts the array A into the matrix class\n",
    "print type(numpy.mat(A))"
   ]
  },
  {
   "cell_type": "code",
   "execution_count": 21,
   "metadata": {
    "collapsed": false
   },
   "outputs": [
    {
     "name": "stdout",
     "output_type": "stream",
     "text": [
      "[[ 1.  0.]\n",
      " [ 0.  1.]]\n"
     ]
    }
   ],
   "source": [
    "# for these objects * is standard matrix multuiplication and we can check that A*A^{-1}=I as expected\n",
    "print numpy.mat(A)*numpy.mat(linalg.inv(A))"
   ]
  },
  {
   "cell_type": "markdown",
   "metadata": {},
   "source": [
    "### <span style=\"color:blue\">Slicing </span>\n",
    "\n",
    "Remember from last term that just as for arrays or lists, we can use *slicing*  in order to extract components of matrices, for example:"
   ]
  },
  {
   "cell_type": "code",
   "execution_count": 22,
   "metadata": {
    "collapsed": false
   },
   "outputs": [
    {
     "name": "stdout",
     "output_type": "stream",
     "text": [
      "[[ 10.   2.   1.]\n",
      " [  6.   5.   4.]\n",
      " [  1.   4.   7.]]\n"
     ]
    }
   ],
   "source": [
    "A=numpy.array([[10., 2., 1.],[6., 5., 4.],[1., 4., 7.]])\n",
    "print A "
   ]
  },
  {
   "cell_type": "code",
   "execution_count": 23,
   "metadata": {
    "collapsed": false
   },
   "outputs": [
    {
     "name": "stdout",
     "output_type": "stream",
     "text": [
      "2.0\n"
     ]
    }
   ],
   "source": [
    "# single entry, first row, second column\n",
    "print A[0,1]    "
   ]
  },
  {
   "cell_type": "code",
   "execution_count": 24,
   "metadata": {
    "collapsed": false
   },
   "outputs": [
    {
     "name": "stdout",
     "output_type": "stream",
     "text": [
      "[ 10.   2.   1.]\n"
     ]
    }
   ],
   "source": [
    "# first row\n",
    "print A[0,:]    "
   ]
  },
  {
   "cell_type": "code",
   "execution_count": 25,
   "metadata": {
    "collapsed": false
   },
   "outputs": [
    {
     "name": "stdout",
     "output_type": "stream",
     "text": [
      "[ 1.  4.  7.]\n"
     ]
    }
   ],
   "source": [
    "# last row\n",
    "print A[-1,:]   "
   ]
  },
  {
   "cell_type": "code",
   "execution_count": 26,
   "metadata": {
    "collapsed": false
   },
   "outputs": [
    {
     "name": "stdout",
     "output_type": "stream",
     "text": [
      "[ 2.  5.  4.]\n"
     ]
    }
   ],
   "source": [
    "# second column\n",
    "print A[:,1]    "
   ]
  },
  {
   "cell_type": "code",
   "execution_count": 27,
   "metadata": {
    "collapsed": false
   },
   "outputs": [
    {
     "name": "stdout",
     "output_type": "stream",
     "text": [
      "[[ 5.  4.]\n",
      " [ 4.  7.]]\n"
     ]
    }
   ],
   "source": [
    "# extract a 2x2 sub-matrix\n",
    "print A[1:3,1:3]  "
   ]
  },
  {
   "cell_type": "markdown",
   "metadata": {},
   "source": [
    "## Properties of matrices: determinants, singularity, solvability of linear systems, etc\n",
    "\n",
    "Consider $N$ linear equations in $N$ unknowns, $A\\pmb{x}=\\pmb{b}$. \n",
    "\n",
    "From MM1 you learnt that this system has a *unique solution* provided that the determinant of A, $\\det(A)$, is non-zero. In this case the matrix is said to be *non-singular*.\n",
    "\n",
    "If $\\det(A)=0$ (with $A$ then termed a *singular matrix*), then the linear system does *not* have a unique solution, it may have either infinite *or* no solutions.\n",
    "\n",
    "For example, consider\n",
    "\n",
    "$$\n",
    "\\left(\n",
    "  \\begin{array}{rr}\n",
    "    2 & 3 \\\\\n",
    "    4 & 6  \\\\\n",
    "  \\end{array}\n",
    "\\right)\\left(\n",
    "  \\begin{array}{c}\n",
    "    x \\\\\n",
    "    y \\\\\n",
    "  \\end{array}\n",
    "\\right) = \\left(\n",
    "  \\begin{array}{c}\n",
    "    4 \\\\\n",
    "    8 \\\\\n",
    "  \\end{array}\n",
    "\\right)\n",
    "$$\n",
    "\n",
    "The second equation is simply twice the first, and hence a solution to the first equation is also automatically a solution to the second equation. \n",
    "\n",
    "We hence only have one *linearly-independent* equation, and our problem is under-constrained: we effectively only have one eqution for two unknowns with infinitely many possibly solutions. \n",
    "\n",
    "If we replaced the RHS vector with $(4,7)^T$, then the two equations would be contradictory: in this case we have no solutions.\n",
    "\n",
    "Note that a set of vectors where one can be written as a linear sum of the others are termed *linearly-dependent*. When this is not the case the vectors are termed *linearly-independent*.\n",
    "\n",
    "The following properties of a square $n\\times n$ matrix are equivalent:\n",
    "\n",
    "* $\\det(A)\\ne 0$ - A is non-singular\n",
    "\n",
    "* The columns of $A$ are linearly independent\n",
    "\n",
    "* The rows of $A$ are linearly independent\n",
    "\n",
    "* The columns of A *span* $n$-dimensional space (recall MM1 - we can reach any point in $\\mathbb{R}^N$ through a linear combination of these vectors - note that this is simply what the operation $A\\pmb{x}$ is doing of course if you write it out)\n",
    "\n",
    "* $A$ is invertible, i.e. there exists a matrix $A^{-1}$ such that $A^{-1}A = A A^{-1}=I$\n",
    "\n",
    "* the matrix system $A\\pmb{x}=\\pmb{b}$ has a unique solution for every vector $b$\n"
   ]
  },
  {
   "cell_type": "markdown",
   "metadata": {},
   "source": [
    "## Gaussian elimination - method\n",
    "\n",
    "\n",
    "The Gaussian elimination algorithm is simply a systematic implementation of the method of equation substitution we used above to solve the $2\\times 2$ system (i.e. where we \"multiply the second equation by 2 and subtract the first equation from the resulting equation to *eliminate* $x$ and hence allowing us to find $y$, we can then compute $x$ from the first equation\").\n",
    "\n",
    "So *Gaussian elimination*  as the method is atributed to the mathematician *Gauss* (although it was certainly known before his time) and *elimination* as we seek to eliminate unknowns.\n",
    "\n",
    "To perform this method for arbitrarily large systems (on paper) we form the so-called augmented matrix\n",
    "\n",
    "$$\n",
    "[A|\\pmb{b}] = \n",
    "\\left[\n",
    "  \\begin{array}{rr|r}\n",
    "    2 & 3 & 7 \\\\\n",
    "    1 & -4 & 3  \\\\\n",
    "  \\end{array}\n",
    "\\right]\n",
    "$$\n",
    "\n",
    "First we multiplied the second equation by 2, this yield the updated augmented matrix:\n",
    "\n",
    "$$\n",
    "\\left[\n",
    "  \\begin{array}{rr|r}\n",
    "    2 & 3 & 7 \\\\\n",
    "    2 & -8 & 6 \\\\\n",
    "  \\end{array}\n",
    "\\right]\n",
    "$$\n",
    "\n",
    "We can use the following notation to describe this operation:\n",
    "\n",
    "$$ Eq. (2) \\leftarrow 2\\times Eq. (2) $$\n",
    "\n",
    "Note importantly that this does not change anything about what these pair of equations are telling us about the unknown solution vector $\\pmb{x}$ which although it doesn't appear is implicilty defined by this augmented equation.\n",
    "\n",
    "The next step was to subtract the first equation from the updated second ($ Eq. (2) \\leftarrow Eq. (2) - Eq. (1) $):\n",
    "\n",
    "$$\n",
    "\\left[\n",
    "  \\begin{array}{rr|r}\n",
    "    2 & 3 & 7 \\\\\n",
    "    0 & -11 & -1 \\\\\n",
    "  \\end{array}\n",
    "\\right]\n",
    "$$\n",
    "\n",
    "The square matrix that is now in the $A$ position of this augmented system is an example of an *upper-triangular* matrix - all entries below the diagonal are zero.  For such a matrix we can perform back substitution - starting at the bottom to solve trivially for the final unknown ($y$ here which clearly takes the value $-1/-11$), and then using this knowledge working our way up to solve for each remaining unknown in turn, here just $x$ (solving $2x + 3\\times (1/11) = 7$).\n",
    "\n",
    "Note that we can perform the similar substitution if we had a lower triangular matrix, first finding the first unknown and then working our way forward through the remaining unknows - hence in this case *forward substitution*.\n",
    "\n",
    "Note that if we wished we could of course continue working on the augmented matrix to make the $A$ component diagonal: divide the second equation by 11 ($ Eq. (2) \\leftarrow (1/11)\\times Eq. (2) $) and add it to the first ($ Eq. (1) \\leftarrow Eq. (1) +  Eq. (2) $):\n",
    "\n",
    "$$\n",
    "\\left[\n",
    "  \\begin{array}{rr|r}\n",
    "    2 & 0 & 7-3/11\\\\\n",
    "    0 & -1 & -1/11 \\\\\n",
    "  \\end{array}\n",
    "\\right]\n",
    "$$\n",
    "\n",
    "and we can further make it the identity by dividing the rows by $2$ and $-1$ respectively ($ Eq. (1) \\leftarrow (1/2)\\times Eq. (1) $, $ Eq. (2) \\leftarrow (1/-1)\\times Eq. (2) $) :\n",
    "\n",
    "$$\n",
    "\\left[\n",
    "  \\begin{array}{rr|r}\n",
    "    1 & 0 & (7-3/11)/2 \\\\\n",
    "    0 & 1 & 1/11 \\\\\n",
    "  \\end{array}\n",
    "\\right]\n",
    "$$\n",
    "\n",
    "Each of these augmented matrices encodes exactly the same information as the original matrix system in terms of the unknown vector $\\pmb{x}$, and hence this is telling us that\n",
    "\n",
    "$$ \\pmb{x} = I \\pmb{x} = \\left[\n",
    "  \\begin{array}{c}\n",
    "    (7-3/11)/2 \\\\\n",
    "    1/11 \\\\\n",
    "  \\end{array}\n",
    "\\right]\n",
    "$$\n",
    "\n",
    "i.e. exactly the solution we found when we performed back substitution from the upper-triangular form of the augmented system.\n"
   ]
  },
  {
   "cell_type": "markdown",
   "metadata": {},
   "source": [
    "### <span style=\"color:blue\">Exercise 2.1: Gaussian elimination $3 \\times 3$ example (by hand) </span>\n",
    "\n",
    "Consider the system of linear equations\n",
    "\n",
    "\\begin{align*}\n",
    "  2x + 3y - 4z &= 10 \\\\\n",
    "  3x -  y + 2z &= 3 \\\\\n",
    "  4x + 2y + 2z &= 8\n",
    "\\end{align*}\n",
    "\n",
    "write this in matrix form, form the corresponding augmented system and perform row operations until you get to upper-triangular form, find the solution using back substitution (**do this all with pen and paper**).\n",
    "\n",
    "Write some code to check your answer using `numpy.dot(linalg.inv(A),b)`.\n",
    "\n",
    "You should find $x=43/23$, $y=24/23$, $z=-18/23$.\n"
   ]
  },
  {
   "cell_type": "code",
   "execution_count": 37,
   "metadata": {
    "collapsed": false
   },
   "outputs": [
    {
     "name": "stdout",
     "output_type": "stream",
     "text": [
      "[ 1.86956522  1.04347826 -0.7826087 ]\n",
      "1.8695652173913044 1.0434782608695652 -0.782608695652174\n"
     ]
    }
   ],
   "source": [
    "A = numpy.array([[2.,3.,-4.],[3.,-1.,2.],[4.,2.,2.]])\n",
    "b = numpy.array([10.,3.,8.])\n",
    "print numpy.dot(linalg.inv(A),b)\n",
    "print 43./23, 24./23, -18./23\n"
   ]
  },
  {
   "cell_type": "markdown",
   "metadata": {},
   "source": [
    "## Gaussian elimination - algorithm and code\n",
    "\n",
    "Note that we are free to perform the following operations on the augmented system without changing the corresponding solution:\n",
    "\n",
    "* Exchange two rows (refer to the section on *partial pivoting* next week)\n",
    "\n",
    "* Multiply a row by a non-zero constant ($Eq. (i)\\leftarrow \\lambda \\times Eq.(i)$)\n",
    "\n",
    "* Subtracting a (non-zero) multiple of one row with another ($Eq. (i)\\leftarrow Eq. (i) - \\lambda \\times Eq.(j)$)\n",
    "\n",
    "\n",
    "Note that the equation/row being subtracted is termed the *pivot*.\n",
    "\n",
    "\n",
    "Let's consider the algorithm mid-way working on an arbitrary matrix system, i.e. assume that the first $k$ rows (i.e. above the horizontal dashed line in the matrix below) have already been transformed into upper-triangular form, while the equations/rows below are not yet in this form.\n",
    "\n",
    "The augmented equation in this case can be assumed to look like\n",
    "\n",
    "$$\n",
    "\\left[\n",
    "  \\begin{array}{rrrrrrrrr|r}\n",
    "    A_{11} & A_{12} & A_{13} & \\cdots & A_{1k} & \\cdots & A_{1j} & \\cdots & A_{1n} & b_1 \\\\\n",
    "    0      & A_{22} & A_{23} & \\cdots & A_{2k} & \\cdots & A_{2j} & \\cdots & A_{2n} & b_2 \\\\\n",
    "    0      & 0      & A_{33} & \\cdots & A_{3k} & \\cdots & A_{3j} & \\cdots & A_{3n} & b_3 \\\\\n",
    "    \\vdots & \\vdots & \\vdots & \\ddots & \\vdots & \\ddots & \\vdots & \\ddots & \\vdots & \\vdots \\\\\n",
    "    0      & 0      & 0      & \\cdots & A_{kk} & \\cdots & A_{kj} & \\cdots & A_{kn} & b_k \\\\    \n",
    "\\hdashline\n",
    "    \\vdots & \\vdots & \\vdots & \\ddots & \\vdots & \\ddots & \\vdots & \\ddots & \\vdots & \\vdots \\\\\n",
    "    0      & 0      & 0      & \\cdots & A_{ik} & \\cdots & A_{ij} & \\cdots & A_{in} & b_i \\\\\n",
    "    \\vdots & \\vdots & \\vdots & \\ddots & \\vdots & \\ddots & \\vdots & \\ddots & \\vdots & \\vdots \\\\\n",
    "    0      & 0      & 0      & \\cdots & A_{nk} & \\cdots & A_{nj} & \\cdots & A_{nn} & b_n \\\\\n",
    "\\end{array}\n",
    "\\right]\n",
    "$$\n",
    "\n",
    "Remember that here as we are mid-way through the algorithm the $A$'s and $b$'s in the above are not the same as in the original system!\n",
    "\n",
    "Our aim as a next step in the algorithm is to use row $k$ (the pivot row) to *eliminate* $A_{ik}$, and we need to do this for all of the rows $i$ below the pivot, i.e. for all $i>k$.\n",
    "\n",
    "To eliminate $A_{ik}$ for a single row $i$ we need to perform the operation \n",
    "$$ Eq. (i)\\leftarrow Eq. (i) - \\frac{A_{ik}}{A_{kk}} \\times Eq.(k) $$\n",
    "\n",
    "or equivalently\n",
    "\n",
    "\\begin{align}\n",
    "A_{ij} &\\leftarrow A_{ij} - \\frac{A_{ik}}{A_{kk}} A_{kj}, \\quad j=k,k+1,\\ldots,n\\\\\n",
    "b_i &\\leftarrow b_i - \\frac{A_{ik}}{A_{kk}} b_{k}\n",
    "\\end{align}\n",
    "\n",
    "$j$ only needs to run from $k$ upwards as we can assume that the earlier entries in column $i$ have already been set to zero, and also that the corresponding terms from the pivot row are also zero (we don't need to perform operations that we know involve the addition of zeros!).\n",
    "\n",
    "And to eliminate these entries for all rows below the pivot we need to repeat for all $i>k$."
   ]
  },
  {
   "cell_type": "markdown",
   "metadata": {},
   "source": [
    "### <span style=\"color:blue\">Exercise 2.2: Gaussian elimination</span>\n",
    "\n",
    "Write some code that takes a matrix $A$ and a vector $\\pmb{b}$ and converts it into upper-triangular form using the above algorithm. For the $2 \\times 2$ and $3\\times 3$ examples from above compare the resulting $A$ and $\\pmb{b}$ you obtain following elimination.\n"
   ]
  },
  {
   "cell_type": "code",
   "execution_count": 5,
   "metadata": {
    "collapsed": false
   },
   "outputs": [
    {
     "name": "stdout",
     "output_type": "stream",
     "text": [
      "array([[ 2.        ,  3.        , -4.        ],\n",
      "       [ 0.        , -5.5       ,  8.        ],\n",
      "       [ 0.        ,  0.        ,  4.18181818]])\n",
      "array([ 10.        , -12.        ,  -3.27272727])\n"
     ]
    }
   ],
   "source": [
    "# Basic solution.\n",
    "\n",
    "def upper_triangle(A, b):\n",
    "    # Assuming it is a square matrix of size nxn.\n",
    "    n = numpy.size(b)\n",
    "    \n",
    "    # Loop over each pivot row.\n",
    "    for k in range(n-1):\n",
    "        # Loop over each equation below the pivot row.\n",
    "        for i in range(k+1, n):\n",
    "            # Define the scaling factor outside the innermost\n",
    "            # loop otherwise its value gets changed as you are\n",
    "            # over-writing A\n",
    "            s = (A[i,k]/A[k,k])\n",
    "            # we don't start the following loop from 0 as we can assume\n",
    "            # some entries in the rows are already zero\n",
    "            for j in range(k, n): \n",
    "                A[i,j] = A[i,j] - s*A[k,j]\n",
    "            b[i] = b[i] - s*b[k]\n",
    "\n",
    "# Initialise a test matrix and RHS. Make sure they are initialised as floats.\n",
    "A = numpy.array([[2., 3., -4.],\n",
    "                 [3., -1., 2.],\n",
    "                 [4., 2., 2.]])\n",
    "b = numpy.array([10., 3., 8.])\n",
    "\n",
    "upper_triangle(A, b)\n",
    "\n",
    "# Here is a new trick for you - \"pretty print\"\n",
    "from pprint import pprint\n",
    "pprint(A)\n",
    "pprint(b)"
   ]
  },
  {
   "cell_type": "markdown",
   "metadata": {},
   "source": [
    "### Back substitution\n",
    "\n",
    "Now that we have an augmented system in the upper-triangular form\n",
    "\n",
    "$$\n",
    "\\left[\n",
    "  \\begin{array}{rrrrr|r}\n",
    "    A_{11} & A_{12} & A_{13} & \\cdots & A_{1n} &  b_1 \\\\\n",
    "    0      & A_{22} & A_{23} & \\cdots & A_{2n} &  b_2 \\\\\n",
    "    0      & 0      & A_{33} & \\cdots & A_{3n} &  b_3 \\\\\n",
    "    \\vdots & \\vdots & \\vdots & \\ddots & \\vdots & \\vdots \\\\\n",
    "    0      & 0      & 0      & \\cdots & A_{nn} &  b_n \\\\    \n",
    "\\end{array}\n",
    "\\right]\n",
    "$$\n",
    "\n",
    "where the solution $\\pmb{x}$ of the original system also satisfies $A\\pmb{x}=\\pmb{b}$ for the $A$ and $\\pmb{b}$ in the above upper-triangular form (rather than the original $A$ and $\\pmb{b}$!).\n",
    "\n",
    "We can solve the final equation row to yield\n",
    "\n",
    "$$x_n = \\frac{b_n}{A_{nn}}$$\n",
    "\n",
    "The second to last equation then yields (note we've introduced a comma in the subscripts here simply to make the more complex double indices easier to read)\n",
    "\n",
    "\\begin{align}\n",
    "A_{n-1,n-1}x_{n-1} + A_{n-1,n}x_n &= b_{n-1}\\\\\n",
    "\\implies x_{n-1} = \\frac{b_{n-1} - A_{n-1,n}x_n}{A_{n-1,n-1}}\\\\\n",
    "\\implies x_{n-1} = \\frac{b_{n-1} - A_{n-1,n}\\frac{b_n}{A_{nn}}}{A_{n-1,n-1}}\n",
    "\\end{align}\n",
    "\n",
    "and so on to row $k$ which yields\n",
    "\n",
    "\\begin{align}\n",
    "A_{k,k}x_{k} + A_{k,k+1}x_{k+1} +\\cdots +  A_{k,n}x_n &= b_{k}\\\\\n",
    "\\iff A_{k,k}x_{k} + \\sum_{j=k+1}^{n}A_{kj}x_j &= b_{k}\\\\\n",
    "\\implies x_{k} &= \\left( b_k - \\sum_{j=k+1}^{n}A_{kj}x_j\\right)\\frac{1}{A_{kk}}\n",
    "\\end{align}"
   ]
  },
  {
   "cell_type": "markdown",
   "metadata": {},
   "source": [
    "### <span style=\"color:blue\">Exercise 2.3: Back substitution</span>\n",
    "\n",
    "Extend your code to perform back substitution and hence to obtain the final solution $\\pmb{x}$.  Check against the solutions found earlier.  Come up with some random $n\\times n$ matrices and check your code against `numpy.dot(linalg.inv(A),b)` (remember to use the original $A$ and $\\pmb{b}$ here of course!)\n"
   ]
  },
  {
   "cell_type": "code",
   "execution_count": 8,
   "metadata": {
    "collapsed": false
   },
   "outputs": [
    {
     "name": "stdout",
     "output_type": "stream",
     "text": [
      "array([ 1.86956522,  1.04347826, -0.7826087 ])\n",
      "array([ 1.86956522,  1.04347826, -0.7826087 ])\n"
     ]
    }
   ],
   "source": [
    "# This function assumes that A is already an upper triangular matrix.\n",
    "def back_substitution(A, b):\n",
    "    n = numpy.size(b)\n",
    "    \n",
    "    x = numpy.zeros(n)\n",
    "    for k in range(n-1, -1, -1):\n",
    "        s = 0.\n",
    "        for j in range(k+1, n):\n",
    "            s = s + A[k, j]*x[j]\n",
    "        x[k] = (b[k] - s)/A[k, k]\n",
    "    \n",
    "    return x\n",
    "\n",
    "# and this A is the upper triangular matrix carried forward \n",
    "# from the Python box above\n",
    "pprint(back_substitution(A, b)) # the solution using your codes\n",
    "        \n",
    "# check your answer against just multiplying A inverse and b   \n",
    "pprint(numpy.dot(linalg.inv(A),b)) "
   ]
  },
  {
   "cell_type": "markdown",
   "metadata": {},
   "source": [
    "### Gauss-Jordan elimination\n",
    "\n",
    "Recall that for the augmented matrix example we did by hand above we continued past the upper-triangular form so that the augmneted matrix had the identity matrix in the $A$ location. This algorithm has the name Gauss-Jordan elimination but note that it requires more operations than the conversion to upper-triangular form followed by back subsitution and so is only of academic interest."
   ]
  },
  {
   "cell_type": "markdown",
   "metadata": {
    "collapsed": true
   },
   "source": [
    "### Matrix inversion\n",
    "\n",
    "Note that if we were to form the augmented equation with the full identity matrix in the place of the vector $\\pmb{b}$, i.e. $[A|I]$ and performed row operations exactly as above until $A$ is transformed into the identity matrix $I$, then we would be left with the inverse of $A$ in the original $I$ location, i.e.\n",
    "\n",
    "$$ [A|I] \\rightarrow [I|A^{-1}] $$ "
   ]
  },
  {
   "cell_type": "markdown",
   "metadata": {},
   "source": [
    "### <span style=\"color:blue\">Exercise 2.4: Matrix inversion</span>\n",
    "\n",
    "Try updating your code to construct the inverse matrix."
   ]
  },
  {
   "cell_type": "code",
   "execution_count": 10,
   "metadata": {
    "collapsed": false
   },
   "outputs": [
    {
     "name": "stdout",
     "output_type": "stream",
     "text": [
      "array([[ 2.        ,  3.        , -4.        ],\n",
      "       [ 0.        , -5.5       ,  8.        ],\n",
      "       [ 0.        ,  0.        ,  4.18181818]])\n",
      "array([[ 2.        ,  0.        ,  0.        ],\n",
      "       [ 0.        , -5.5       ,  0.        ],\n",
      "       [ 0.        ,  0.        ,  4.18181818]])\n",
      "array([[ 1.,  0.,  0.],\n",
      "       [-0.,  1., -0.],\n",
      "       [ 0.,  0.,  1.]])\n",
      "array([[ 0.13043478,  0.30434783, -0.04347826],\n",
      "       [-0.04347826, -0.43478261,  0.34782609],\n",
      "       [-0.2173913 , -0.17391304,  0.23913043]])\n",
      "array([[ 0.13043478,  0.30434783, -0.04347826],\n",
      "       [-0.04347826, -0.43478261,  0.34782609],\n",
      "       [-0.2173913 , -0.17391304,  0.23913043]])\n"
     ]
    }
   ],
   "source": [
    "# This updated version of the upper_triangular function now\n",
    "# assumes that a matrix, B, is in the old vector location\n",
    "# in the augmented system, and applied the same operations to\n",
    "# B as to A - only a minor difference\n",
    "def upper_triangle2(A, B):\n",
    "    n, m = numpy.shape(A)\n",
    "    assert(n==m)  # this is designed to work for a square matrix\n",
    "    \n",
    "    # Loop over each pivot row.\n",
    "    for k in range(n-1):\n",
    "        # Loop over each equation below the pivot row.\n",
    "        for i in range(k+1, n):\n",
    "            # Define the scaling factor outside the innermost\n",
    "            # loop otherwise its value gets changed as you are\n",
    "            # over-writing A\n",
    "            s = (A[i,k]/A[k,k])\n",
    "            for j in range(n):\n",
    "                A[i,j] = A[i,j] - s*A[k,j]\n",
    "                B[i,j] = B[i,j] - s*B[k,j]\n",
    "\n",
    "                \n",
    "# and this is a version which transforms the matrix into lower\n",
    "# triangular form - the point here is that if you give it a \n",
    "# matrix that is already in upper traingular form, then the \n",
    "# result will be a diagonal matrix\n",
    "def lower_triangle2(A, B):\n",
    "    n, m = numpy.shape(A)\n",
    "    assert(n==m) # this is designed to work for a square matrix\n",
    "\n",
    "    # now it's basically just the upper triangular algorithm applied backwards \n",
    "    for k in range(n-1, -1, -1):      \n",
    "        for i in range(k-1, -1, -1):\n",
    "            s = (A[i,k]/A[k,k])\n",
    "            for j in range(n):\n",
    "                A[i,j] = A[i,j] - s*A[k,j]\n",
    "                B[i,j] = B[i,j] - s*B[k,j]\n",
    "\n",
    "    \n",
    "# Let's redefine A as our matrix above\n",
    "A = numpy.array([[2.,3.,-4.],[3.,-1.,2.],[4.,2.,2.]])\n",
    "# and B is the identity of the corresponding size\n",
    "B = numpy.eye(numpy.shape(A)[0])\n",
    "# transform A into upper triangular form (and perform the same operations on B)\n",
    "upper_triangle2(A, B)\n",
    "pprint(A)\n",
    "# now make this updated A lower triangular as well (the result should be diagonal)\n",
    "lower_triangle2(A, B)\n",
    "pprint(A)\n",
    "# final step is just to divide each row through by the value of the diagonal\n",
    "# to end up with the identity in the place of A\n",
    "for i in range(numpy.shape(A)[0]):\n",
    "    B[i,:] = B[i,:]/A[i,i] \n",
    "    A[i,:] = A[i,:]/A[i,i]\n",
    "\n",
    "# the final A should be the identity \n",
    "pprint(A)\n",
    "# the final B should therefore be the inverse of the original B\n",
    "pprint(B)\n",
    "# let's compute the inverse using in-biult functions and check \n",
    "# we get the same answer\n",
    "pprint(linalg.inv(numpy.array([[2.,3.,-4.],[3.,-1.,2.],[4.,2.,2.]])))"
   ]
  },
  {
   "cell_type": "markdown",
   "metadata": {},
   "source": [
    "### <span style=\"color:blue\">Exercise 2.5: Zeros on the diagonal</span>\n",
    "\n",
    "You may have noticed above that we have no way of guaranteeing that the $A_{kk}$ we divide through by in the Guassian elimination or back substitution algorithms is non-zero (or not very small which will also lead to computational problems).\n",
    "Note also that we commented that we are free to exchange two rows in our augmented system - how could you use this fact to build robustness into our algorithms in order to deal with matrices for which our algorithms do lead to very small or zero $A_{kk}$ values?  \n",
    "\n",
    "More on this next week!"
   ]
  },
  {
   "cell_type": "code",
   "execution_count": 12,
   "metadata": {
    "collapsed": false
   },
   "outputs": [
    {
     "name": "stdout",
     "output_type": "stream",
     "text": [
      "array([[ 4. ,  2. ,  2. ],\n",
      "       [ 0. , -2.5,  0.5],\n",
      "       [ 0. ,  0. , -4.6]])\n",
      "array([ 8. , -3. ,  3.6])\n"
     ]
    }
   ],
   "source": [
    "# Advanced solution to 2.2 with row swapping - this makes the method robust\n",
    "# against possible divide by zero (or some very number). Improves\n",
    "# the numerical \"stability\" of the algorithm.  If we don't add this robustness\n",
    "# then for a general matrix we just have to keep our fingers-crossed that\n",
    "# we don't hit a zero or small number!\n",
    "\n",
    "\n",
    "# This function swaps rows in matrix A \n",
    "# (and remembers that we need to do likewise for the vector b we are performing\n",
    "# the same operations on)\n",
    "def swap_row(A, b, i, j): \n",
    "    if i==j:\n",
    "        return\n",
    "\n",
    "    # Make sure it is a real copy - not just a copy of a \n",
    "    # reference to the data!\n",
    "    iA = numpy.copy(A[i, :])\n",
    "    ib = numpy.copy(b[i])\n",
    "    \n",
    "    A[i, :] = A[j, :]\n",
    "    b[i] = b[j]\n",
    "    \n",
    "    A[j, :] = iA\n",
    "    b[j] = ib\n",
    "\n",
    "# This is a new version of the upper_triangular function\n",
    "# with the added step of swapping rows so the largest \n",
    "# magnitude number is always our pivot\n",
    "def upper_triangle(A, b):\n",
    "    n = numpy.size(b)\n",
    "\n",
    "    for k in range(n-1):\n",
    "        # Swap rows so we are always dividing through by the largest number.\n",
    "        kmax = k\n",
    "        for i in range(k+1, n):\n",
    "            if abs(A[kmax, k]) < abs(A[i, k]):\n",
    "                kmax = i\n",
    "        swap_row(A, b, kmax, k)\n",
    "        \n",
    "        for i in range(k+1, n):\n",
    "            s = (A[i,k]/A[k,k])\n",
    "            for j in range(k, n):\n",
    "                A[i,j] = A[i,j] - s*A[k,j]\n",
    "            b[i] = b[i] - s*b[k]\n",
    "    \n",
    "A = numpy.array([[2.,3.,-4.],\n",
    "                 [3.,-1.,2.],\n",
    "                 [4.,2.,2.]])\n",
    "b = numpy.array([10.,3.,8.])\n",
    "\n",
    "upper_triangle(A, b)\n",
    "\n",
    "pprint(A)\n",
    "pprint(b)"
   ]
  },
  {
   "cell_type": "code",
   "execution_count": null,
   "metadata": {
    "collapsed": true
   },
   "outputs": [],
   "source": []
  }
 ],
 "metadata": {
  "kernelspec": {
   "display_name": "Python 3",
   "language": "python",
   "name": "python3"
  },
  "language_info": {
   "codemirror_mode": {
    "name": "ipython",
    "version": 3
   },
   "file_extension": ".py",
   "mimetype": "text/x-python",
   "name": "python",
   "nbconvert_exporter": "python",
   "pygments_lexer": "ipython3",
   "version": "3.5.0"
  }
 },
 "nbformat": 4,
 "nbformat_minor": 0
}
